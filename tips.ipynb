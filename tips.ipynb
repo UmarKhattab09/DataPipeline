{
 "cells": [
  {
   "cell_type": "code",
   "execution_count": 1,
   "id": "8006e223-7226-4b22-9be3-f09555f442c5",
   "metadata": {},
   "outputs": [],
   "source": [
    "import pyspark\n",
    "from pyspark.sql import SparkSession\n",
    "spark = SparkSession.builder.master(\"local\").appName('Practice').getOrCreate()\n"
   ]
  },
  {
   "cell_type": "code",
   "execution_count": 2,
   "id": "80d7a9bc-609f-4ff2-b27f-8021d25a0997",
   "metadata": {},
   "outputs": [],
   "source": [
    "path = \"hdfs://localhost:9000/tips.csv\""
   ]
  },
  {
   "cell_type": "code",
   "execution_count": 3,
   "id": "a0a4b5dc-4180-4d96-a768-d65c68abbba0",
   "metadata": {},
   "outputs": [],
   "source": [
    "df=spark.read.format(\"csv\").option(\"header\",True).option(\"seperator\",\",\").load(path)\n",
    "    "
   ]
  },
  {
   "cell_type": "code",
   "execution_count": 4,
   "id": "da1677ac-0d2f-4cf6-9730-1f9dbed7bb10",
   "metadata": {},
   "outputs": [
    {
     "name": "stdout",
     "output_type": "stream",
     "text": [
      "+----------+----+------+------+---+------+----+\n",
      "|total_bill| tip|   sex|smoker|day|  time|size|\n",
      "+----------+----+------+------+---+------+----+\n",
      "|     16.99|1.01|Female|    No|Sun|Dinner|   2|\n",
      "|     10.34|1.66|  Male|    No|Sun|Dinner|   3|\n",
      "|     21.01| 3.5|  Male|    No|Sun|Dinner|   3|\n",
      "|     23.68|3.31|  Male|    No|Sun|Dinner|   2|\n",
      "|     24.59|3.61|Female|    No|Sun|Dinner|   4|\n",
      "|     25.29|4.71|  Male|    No|Sun|Dinner|   4|\n",
      "|      8.77|   2|  Male|    No|Sun|Dinner|   2|\n",
      "|     26.88|3.12|  Male|    No|Sun|Dinner|   4|\n",
      "|     15.04|1.96|  Male|    No|Sun|Dinner|   2|\n",
      "|     14.78|3.23|  Male|    No|Sun|Dinner|   2|\n",
      "|     10.27|1.71|  Male|    No|Sun|Dinner|   2|\n",
      "|     35.26|   5|Female|    No|Sun|Dinner|   4|\n",
      "|     15.42|1.57|  Male|    No|Sun|Dinner|   2|\n",
      "|     18.43|   3|  Male|    No|Sun|Dinner|   4|\n",
      "|     14.83|3.02|Female|    No|Sun|Dinner|   2|\n",
      "|     21.58|3.92|  Male|    No|Sun|Dinner|   2|\n",
      "|     10.33|1.67|Female|    No|Sun|Dinner|   3|\n",
      "|     16.29|3.71|  Male|    No|Sun|Dinner|   3|\n",
      "|     16.97| 3.5|Female|    No|Sun|Dinner|   3|\n",
      "|     20.65|3.35|  Male|    No|Sat|Dinner|   3|\n",
      "+----------+----+------+------+---+------+----+\n",
      "only showing top 20 rows\n",
      "\n"
     ]
    }
   ],
   "source": [
    "df.show()"
   ]
  },
  {
   "cell_type": "code",
   "execution_count": 5,
   "id": "a66fda1a-51e1-4359-8ecd-f5d75c3431c4",
   "metadata": {},
   "outputs": [
    {
     "name": "stdout",
     "output_type": "stream",
     "text": [
      "root\n",
      " |-- total_bill: string (nullable = true)\n",
      " |-- tip: string (nullable = true)\n",
      " |-- sex: string (nullable = true)\n",
      " |-- smoker: string (nullable = true)\n",
      " |-- day: string (nullable = true)\n",
      " |-- time: string (nullable = true)\n",
      " |-- size: string (nullable = true)\n",
      "\n"
     ]
    }
   ],
   "source": [
    "df.printSchema()"
   ]
  },
  {
   "cell_type": "code",
   "execution_count": 6,
   "id": "b5aca768-e7b1-4b6a-8f6e-1fa7e524ae54",
   "metadata": {},
   "outputs": [],
   "source": [
    "# df.columns\n",
    "from pyspark.sql.functions import col\n",
    "from pyspark.sql.types import StringType,BooleanType,DateType,IntegerType,DoubleType\n",
    "df = df.withColumn(\"total_bill\",col(\"total_bill\").cast(DoubleType()))\n",
    "df = df.withColumn(\"size\",col(\"size\").cast(IntegerType()))\n",
    "df = df.withColumn(\"tip\",col(\"tip\").cast(DoubleType()))\n"
   ]
  },
  {
   "cell_type": "code",
   "execution_count": 7,
   "id": "ed76a200-6f92-458b-b5ea-ef16d1dff0bd",
   "metadata": {},
   "outputs": [
    {
     "data": {
      "text/plain": [
       "['total_bill', 'tip', 'sex', 'smoker', 'day', 'time', 'size']"
      ]
     },
     "execution_count": 7,
     "metadata": {},
     "output_type": "execute_result"
    }
   ],
   "source": [
    "df.columns"
   ]
  },
  {
   "cell_type": "code",
   "execution_count": 8,
   "id": "f5684df5-1454-45da-9efa-2d9bbbe370c2",
   "metadata": {},
   "outputs": [],
   "source": [
    "### HANDLING CATEGORICAL FEATURES\n",
    "from pyspark.ml.feature import StringIndexer"
   ]
  },
  {
   "cell_type": "code",
   "execution_count": 9,
   "id": "f916005c-5fdd-43d1-a9d8-694b32124e22",
   "metadata": {},
   "outputs": [
    {
     "name": "stdout",
     "output_type": "stream",
     "text": [
      "+----------+----+------+------+---+------+----+-----------+\n",
      "|total_bill| tip|   sex|smoker|day|  time|size|sex_indexed|\n",
      "+----------+----+------+------+---+------+----+-----------+\n",
      "|     16.99|1.01|Female|    No|Sun|Dinner|   2|        1.0|\n",
      "|     10.34|1.66|  Male|    No|Sun|Dinner|   3|        0.0|\n",
      "|     21.01| 3.5|  Male|    No|Sun|Dinner|   3|        0.0|\n",
      "|     23.68|3.31|  Male|    No|Sun|Dinner|   2|        0.0|\n",
      "|     24.59|3.61|Female|    No|Sun|Dinner|   4|        1.0|\n",
      "|     25.29|4.71|  Male|    No|Sun|Dinner|   4|        0.0|\n",
      "|      8.77| 2.0|  Male|    No|Sun|Dinner|   2|        0.0|\n",
      "|     26.88|3.12|  Male|    No|Sun|Dinner|   4|        0.0|\n",
      "|     15.04|1.96|  Male|    No|Sun|Dinner|   2|        0.0|\n",
      "|     14.78|3.23|  Male|    No|Sun|Dinner|   2|        0.0|\n",
      "|     10.27|1.71|  Male|    No|Sun|Dinner|   2|        0.0|\n",
      "|     35.26| 5.0|Female|    No|Sun|Dinner|   4|        1.0|\n",
      "|     15.42|1.57|  Male|    No|Sun|Dinner|   2|        0.0|\n",
      "|     18.43| 3.0|  Male|    No|Sun|Dinner|   4|        0.0|\n",
      "|     14.83|3.02|Female|    No|Sun|Dinner|   2|        1.0|\n",
      "|     21.58|3.92|  Male|    No|Sun|Dinner|   2|        0.0|\n",
      "|     10.33|1.67|Female|    No|Sun|Dinner|   3|        1.0|\n",
      "|     16.29|3.71|  Male|    No|Sun|Dinner|   3|        0.0|\n",
      "|     16.97| 3.5|Female|    No|Sun|Dinner|   3|        1.0|\n",
      "|     20.65|3.35|  Male|    No|Sat|Dinner|   3|        0.0|\n",
      "+----------+----+------+------+---+------+----+-----------+\n",
      "only showing top 20 rows\n",
      "\n"
     ]
    }
   ],
   "source": [
    "indexer = StringIndexer(inputCol=\"sex\",outputCol=\"sex_indexed\")\n",
    "df_r =indexer.fit(df).transform(df)\n",
    "df_r.show()"
   ]
  },
  {
   "cell_type": "code",
   "execution_count": 10,
   "id": "563f70cd-3958-4bb5-85ba-eec239087861",
   "metadata": {},
   "outputs": [],
   "source": [
    "indexer = StringIndexer(inputCols=[\"sex\",\"smoker\",\"day\",\"time\"],outputCols=[\"sex_index\",\"smoker_index\",\"day_index\",\"time_index\"])\n",
    "df_r =indexer.fit(df_r).transform(df_r)\n"
   ]
  },
  {
   "cell_type": "code",
   "execution_count": 11,
   "id": "feb495ba-f153-4841-a65b-10ba43823124",
   "metadata": {},
   "outputs": [
    {
     "name": "stdout",
     "output_type": "stream",
     "text": [
      "+----------+----+------+------+---+------+----+-----------+------------+---------+----------+\n",
      "|total_bill| tip|   sex|smoker|day|  time|size|sex_indexed|smoker_index|day_index|time_index|\n",
      "+----------+----+------+------+---+------+----+-----------+------------+---------+----------+\n",
      "|     16.99|1.01|Female|    No|Sun|Dinner|   2|        1.0|         0.0|      1.0|       0.0|\n",
      "|     10.34|1.66|  Male|    No|Sun|Dinner|   3|        0.0|         0.0|      1.0|       0.0|\n",
      "|     21.01| 3.5|  Male|    No|Sun|Dinner|   3|        0.0|         0.0|      1.0|       0.0|\n",
      "|     23.68|3.31|  Male|    No|Sun|Dinner|   2|        0.0|         0.0|      1.0|       0.0|\n",
      "|     24.59|3.61|Female|    No|Sun|Dinner|   4|        1.0|         0.0|      1.0|       0.0|\n",
      "|     25.29|4.71|  Male|    No|Sun|Dinner|   4|        0.0|         0.0|      1.0|       0.0|\n",
      "|      8.77| 2.0|  Male|    No|Sun|Dinner|   2|        0.0|         0.0|      1.0|       0.0|\n",
      "|     26.88|3.12|  Male|    No|Sun|Dinner|   4|        0.0|         0.0|      1.0|       0.0|\n",
      "|     15.04|1.96|  Male|    No|Sun|Dinner|   2|        0.0|         0.0|      1.0|       0.0|\n",
      "|     14.78|3.23|  Male|    No|Sun|Dinner|   2|        0.0|         0.0|      1.0|       0.0|\n",
      "|     10.27|1.71|  Male|    No|Sun|Dinner|   2|        0.0|         0.0|      1.0|       0.0|\n",
      "|     35.26| 5.0|Female|    No|Sun|Dinner|   4|        1.0|         0.0|      1.0|       0.0|\n",
      "|     15.42|1.57|  Male|    No|Sun|Dinner|   2|        0.0|         0.0|      1.0|       0.0|\n",
      "|     18.43| 3.0|  Male|    No|Sun|Dinner|   4|        0.0|         0.0|      1.0|       0.0|\n",
      "|     14.83|3.02|Female|    No|Sun|Dinner|   2|        1.0|         0.0|      1.0|       0.0|\n",
      "|     21.58|3.92|  Male|    No|Sun|Dinner|   2|        0.0|         0.0|      1.0|       0.0|\n",
      "|     10.33|1.67|Female|    No|Sun|Dinner|   3|        1.0|         0.0|      1.0|       0.0|\n",
      "|     16.29|3.71|  Male|    No|Sun|Dinner|   3|        0.0|         0.0|      1.0|       0.0|\n",
      "|     16.97| 3.5|Female|    No|Sun|Dinner|   3|        1.0|         0.0|      1.0|       0.0|\n",
      "|     20.65|3.35|  Male|    No|Sat|Dinner|   3|        0.0|         0.0|      0.0|       0.0|\n",
      "+----------+----+------+------+---+------+----+-----------+------------+---------+----------+\n",
      "only showing top 20 rows\n",
      "\n"
     ]
    }
   ],
   "source": [
    "df_r.show()"
   ]
  },
  {
   "cell_type": "code",
   "execution_count": 12,
   "id": "8502c0cb-fd7b-4928-8e0a-d806c35114b1",
   "metadata": {},
   "outputs": [],
   "source": [
    "from pyspark.ml.feature import VectorAssembler\n",
    "featureassembler=VectorAssembler(inputCols=['tip','size','sex_indexed','smoker_index','day_index','time_index'],outputCol='Independent Features')"
   ]
  },
  {
   "cell_type": "code",
   "execution_count": 13,
   "id": "043df358-1aae-4ebc-9ec7-11b1ab53d4a4",
   "metadata": {},
   "outputs": [],
   "source": [
    "output = featureassembler.transform(df_r)"
   ]
  },
  {
   "cell_type": "code",
   "execution_count": 14,
   "id": "c4cbcfd7-477c-4f5c-bd4c-86d871c08337",
   "metadata": {},
   "outputs": [
    {
     "name": "stdout",
     "output_type": "stream",
     "text": [
      "+--------------------+\n",
      "|Independent Features|\n",
      "+--------------------+\n",
      "|[1.01,2.0,1.0,0.0...|\n",
      "|[1.66,3.0,0.0,0.0...|\n",
      "|[3.5,3.0,0.0,0.0,...|\n",
      "|[3.31,2.0,0.0,0.0...|\n",
      "|[3.61,4.0,1.0,0.0...|\n",
      "|[4.71,4.0,0.0,0.0...|\n",
      "|[2.0,2.0,0.0,0.0,...|\n",
      "|[3.12,4.0,0.0,0.0...|\n",
      "|[1.96,2.0,0.0,0.0...|\n",
      "|[3.23,2.0,0.0,0.0...|\n",
      "|[1.71,2.0,0.0,0.0...|\n",
      "|[5.0,4.0,1.0,0.0,...|\n",
      "|[1.57,2.0,0.0,0.0...|\n",
      "|[3.0,4.0,0.0,0.0,...|\n",
      "|[3.02,2.0,1.0,0.0...|\n",
      "|[3.92,2.0,0.0,0.0...|\n",
      "|[1.67,3.0,1.0,0.0...|\n",
      "|[3.71,3.0,0.0,0.0...|\n",
      "|[3.5,3.0,1.0,0.0,...|\n",
      "|(6,[0,1],[3.35,3.0])|\n",
      "+--------------------+\n",
      "only showing top 20 rows\n",
      "\n"
     ]
    }
   ],
   "source": [
    "output.select('Independent Features').show()"
   ]
  },
  {
   "cell_type": "code",
   "execution_count": 15,
   "id": "fda0ce06-6b53-424e-9c38-f20e4b2d4398",
   "metadata": {},
   "outputs": [
    {
     "name": "stdout",
     "output_type": "stream",
     "text": [
      "+--------------------+----------+\n",
      "|Independent Features|total_bill|\n",
      "+--------------------+----------+\n",
      "|[1.01,2.0,1.0,0.0...|     16.99|\n",
      "|[1.66,3.0,0.0,0.0...|     10.34|\n",
      "|[3.5,3.0,0.0,0.0,...|     21.01|\n",
      "|[3.31,2.0,0.0,0.0...|     23.68|\n",
      "|[3.61,4.0,1.0,0.0...|     24.59|\n",
      "|[4.71,4.0,0.0,0.0...|     25.29|\n",
      "|[2.0,2.0,0.0,0.0,...|      8.77|\n",
      "|[3.12,4.0,0.0,0.0...|     26.88|\n",
      "|[1.96,2.0,0.0,0.0...|     15.04|\n",
      "|[3.23,2.0,0.0,0.0...|     14.78|\n",
      "|[1.71,2.0,0.0,0.0...|     10.27|\n",
      "|[5.0,4.0,1.0,0.0,...|     35.26|\n",
      "|[1.57,2.0,0.0,0.0...|     15.42|\n",
      "|[3.0,4.0,0.0,0.0,...|     18.43|\n",
      "|[3.02,2.0,1.0,0.0...|     14.83|\n",
      "|[3.92,2.0,0.0,0.0...|     21.58|\n",
      "|[1.67,3.0,1.0,0.0...|     10.33|\n",
      "|[3.71,3.0,0.0,0.0...|     16.29|\n",
      "|[3.5,3.0,1.0,0.0,...|     16.97|\n",
      "|(6,[0,1],[3.35,3.0])|     20.65|\n",
      "+--------------------+----------+\n",
      "only showing top 20 rows\n",
      "\n"
     ]
    }
   ],
   "source": [
    "finaldata=output.select(\"Independent Features\",\"total_bill\")\n",
    "finaldata.show()"
   ]
  },
  {
   "cell_type": "code",
   "execution_count": 16,
   "id": "4dab6a15-3aca-4385-8acd-2be10ee13185",
   "metadata": {},
   "outputs": [],
   "source": [
    "from pyspark.ml.regression import LinearRegression\n",
    "train_data,test_data=finaldata.randomSplit([0.75,0.25])\n",
    "regressor=LinearRegression(featuresCol='Independent Features',labelCol='total_bill')\n",
    "model=regressor.fit(train_data)"
   ]
  },
  {
   "cell_type": "code",
   "execution_count": 17,
   "id": "10616e3c-a109-4f4f-9b9a-70d384059baa",
   "metadata": {},
   "outputs": [
    {
     "name": "stdout",
     "output_type": "stream",
     "text": [
      "+--------------------+----------+------------------+\n",
      "|Independent Features|total_bill|        prediction|\n",
      "+--------------------+----------+------------------+\n",
      "|(6,[0,1],[1.45,2.0])|      9.55| 13.34498405371758|\n",
      "|(6,[0,1],[1.97,2.0])|     12.02|14.903790313821965|\n",
      "|(6,[0,1],[2.01,2.0])|     20.23|15.023698487676148|\n",
      "| (6,[0,1],[2.5,4.0])|     18.35|23.571782708547495|\n",
      "| (6,[0,1],[3.0,2.0])|      14.0| 17.99142579056719|\n",
      "|(6,[0,1],[3.18,2.0])|     19.82| 18.53101257291102|\n",
      "|(6,[0,1],[3.35,3.0])|     20.65|22.580226857370096|\n",
      "|(6,[0,1],[4.08,2.0])|     17.92| 21.22894648463015|\n",
      "|(6,[0,1],[5.92,3.0])|     29.03| 30.28432702750139|\n",
      "|[1.0,2.0,0.0,1.0,...|      12.6|14.611984359594619|\n",
      "|[1.0,2.0,1.0,1.0,...|      5.75|12.809450850251162|\n",
      "|[1.1,2.0,1.0,1.0,...|      12.9|13.499954753048376|\n",
      "|[1.25,2.0,1.0,0.0...|      8.51| 9.839772956866799|\n",
      "|[1.44,2.0,0.0,1.0...|      7.74|15.930974271990639|\n",
      "|[1.5,2.0,0.0,0.0,...|     12.46|13.104135802873554|\n",
      "|[1.5,2.0,0.0,1.0,...|     11.59|16.110836532771913|\n",
      "|[1.5,2.0,0.0,1.0,...|     15.69| 15.98059204338466|\n",
      "|[1.63,2.0,1.0,0.0...|     11.87| 10.97890060848154|\n",
      "|[1.73,2.0,0.0,0.0...|      9.78|12.690471084298702|\n",
      "|[2.0,2.0,0.0,0.0,...|     13.13| 14.86347695482535|\n",
      "+--------------------+----------+------------------+\n",
      "only showing top 20 rows\n",
      "\n"
     ]
    }
   ],
   "source": [
    "### PREDICTIONS\n",
    "pred_results=model.evaluate(test_data)\n",
    "pred_results.predictions.show()"
   ]
  },
  {
   "cell_type": "code",
   "execution_count": 26,
   "id": "eac17a08-8d3a-479b-b840-e481fc44f085",
   "metadata": {},
   "outputs": [],
   "source": [
    "model_path = \"hdfs://localhost:9000/models/linear_regression_model\"\n",
    "model.save(model_path)\n"
   ]
  },
  {
   "cell_type": "code",
   "execution_count": 31,
   "id": "07fa8c07-643d-4d63-afc4-2929288e96d3",
   "metadata": {},
   "outputs": [],
   "source": [
    "from pyspark.ml.regression import LinearRegressionModel\n",
    "model_path =\"hdfs://localhost:9000/models/linear_regression_model\"\n",
    "loaded_model = LinearRegressionModel.load(model_path)\n"
   ]
  },
  {
   "cell_type": "code",
   "execution_count": 153,
   "id": "e29606c9-b8b5-4e05-804a-502ee84ed2e8",
   "metadata": {},
   "outputs": [
    {
     "name": "stdout",
     "output_type": "stream",
     "text": [
      "root\n",
      " |-- total_bill: double (nullable = true)\n",
      " |-- tip: double (nullable = true)\n",
      " |-- sex: string (nullable = true)\n",
      " |-- smoker: string (nullable = true)\n",
      " |-- day: string (nullable = true)\n",
      " |-- time: string (nullable = true)\n",
      " |-- size: integer (nullable = true)\n",
      "\n",
      "+----------+----+------+------+---+------+----+\n",
      "|total_bill| tip|   sex|smoker|day|  time|size|\n",
      "+----------+----+------+------+---+------+----+\n",
      "|     28.79|3.23|Female|    No|Thu| Lunch|   6|\n",
      "|     36.61|6.93|  Male|   Yes|Thu| Lunch|   4|\n",
      "|     31.33|3.93|Female|    No|Mon|Dinner|   4|\n",
      "|     28.61|2.46|  Male|   Yes|Fri| Lunch|   4|\n",
      "|     22.91|1.26|  Male|   Yes|Fri|Dinner|   1|\n",
      "|     33.36|2.12|Female|   Yes|Fri|Dinner|   1|\n",
      "|     23.57|4.38|Female|    No|Sun|Dinner|   6|\n",
      "|     44.91|6.32|  Male|   Yes|Sat|Dinner|   5|\n",
      "|     48.29| 7.6|  Male|    No|Sun|Dinner|   3|\n",
      "|     21.02|4.82|Female|    No|Sun|Dinner|   3|\n",
      "|     40.21|9.97|Female|   Yes|Sat| Lunch|   2|\n",
      "|     27.86| 2.6|Female|   Yes|Sat| Lunch|   5|\n",
      "|      29.7|5.42|  Male|   Yes|Wed|Dinner|   1|\n",
      "|      46.5|4.77|  Male|    No|Thu| Lunch|   1|\n",
      "|      6.34|0.34|  Male|   Yes|Thu| Lunch|   4|\n",
      "|       7.1|1.43|  Male|    No|Tue|Dinner|   5|\n",
      "|      3.95|0.45|  Male|    No|Tue| Lunch|   5|\n",
      "|     42.13|5.34|Female|    No|Wed|Dinner|   1|\n",
      "|     39.57|6.63|  Male|   Yes|Wed|Dinner|   5|\n",
      "|     43.89|9.49|  Male|    No|Sat| Lunch|   4|\n",
      "+----------+----+------+------+---+------+----+\n",
      "only showing top 20 rows\n",
      "\n"
     ]
    }
   ],
   "source": [
    "path = \"hdfs://localhost:9000/random_tips_data.csv\"\n",
    "from pyspark.sql.functions import monotonically_increasing_id, row_number\n",
    "\n",
    "randomtips=spark.read.format(\"csv\").option(\"header\",True).option(\"seperator\",\",\").load(path)\n",
    "\n",
    "\n",
    "# df.columns\n",
    "from pyspark.sql.functions import col\n",
    "from pyspark.sql.types import StringType,BooleanType,DateType,IntegerType,DoubleType\n",
    "randomtips = randomtips.withColumn(\"total_bill\",col(\"total_bill\").cast(DoubleType()))\n",
    "randomtips = randomtips.withColumn(\"size\",col(\"size\").cast(IntegerType()))\n",
    "randomtips = randomtips.withColumn(\"tip\",col(\"tip\").cast(DoubleType()))\n",
    "randomtips.printSchema()\n",
    "randomtips.show()"
   ]
  },
  {
   "cell_type": "code",
   "execution_count": 154,
   "id": "16aeefaf-426d-4a14-9ffc-9167365a2603",
   "metadata": {},
   "outputs": [],
   "source": [
    "randomtips = randomtips.withColumn(\"id\", monotonically_increasing_id())\n"
   ]
  },
  {
   "cell_type": "code",
   "execution_count": 155,
   "id": "fbd10cd4-1580-45de-80d3-043cb29cd2c0",
   "metadata": {},
   "outputs": [
    {
     "name": "stdout",
     "output_type": "stream",
     "text": [
      "+----------+----+------+------+---+------+----+---+\n",
      "|total_bill| tip|   sex|smoker|day|  time|size| id|\n",
      "+----------+----+------+------+---+------+----+---+\n",
      "|     28.79|3.23|Female|    No|Thu| Lunch|   6|  0|\n",
      "|     36.61|6.93|  Male|   Yes|Thu| Lunch|   4|  1|\n",
      "|     31.33|3.93|Female|    No|Mon|Dinner|   4|  2|\n",
      "|     28.61|2.46|  Male|   Yes|Fri| Lunch|   4|  3|\n",
      "|     22.91|1.26|  Male|   Yes|Fri|Dinner|   1|  4|\n",
      "|     33.36|2.12|Female|   Yes|Fri|Dinner|   1|  5|\n",
      "|     23.57|4.38|Female|    No|Sun|Dinner|   6|  6|\n",
      "|     44.91|6.32|  Male|   Yes|Sat|Dinner|   5|  7|\n",
      "|     48.29| 7.6|  Male|    No|Sun|Dinner|   3|  8|\n",
      "|     21.02|4.82|Female|    No|Sun|Dinner|   3|  9|\n",
      "|     40.21|9.97|Female|   Yes|Sat| Lunch|   2| 10|\n",
      "|     27.86| 2.6|Female|   Yes|Sat| Lunch|   5| 11|\n",
      "|      29.7|5.42|  Male|   Yes|Wed|Dinner|   1| 12|\n",
      "|      46.5|4.77|  Male|    No|Thu| Lunch|   1| 13|\n",
      "|      6.34|0.34|  Male|   Yes|Thu| Lunch|   4| 14|\n",
      "|       7.1|1.43|  Male|    No|Tue|Dinner|   5| 15|\n",
      "|      3.95|0.45|  Male|    No|Tue| Lunch|   5| 16|\n",
      "|     42.13|5.34|Female|    No|Wed|Dinner|   1| 17|\n",
      "|     39.57|6.63|  Male|   Yes|Wed|Dinner|   5| 18|\n",
      "|     43.89|9.49|  Male|    No|Sat| Lunch|   4| 19|\n",
      "+----------+----+------+------+---+------+----+---+\n",
      "only showing top 20 rows\n",
      "\n"
     ]
    }
   ],
   "source": [
    "randomtips.show()"
   ]
  },
  {
   "cell_type": "code",
   "execution_count": 156,
   "id": "8bc12750-2368-4141-818f-08e2c6ef1df1",
   "metadata": {},
   "outputs": [
    {
     "name": "stdout",
     "output_type": "stream",
     "text": [
      "+--------------------+----------+\n",
      "|Independent Features|total_bill|\n",
      "+--------------------+----------+\n",
      "|[3.23,6.0,1.0,1.0...|     28.79|\n",
      "|[6.93,4.0,0.0,0.0...|     36.61|\n",
      "|[3.93,4.0,1.0,1.0...|     31.33|\n",
      "|[2.46,4.0,0.0,0.0...|     28.61|\n",
      "|(6,[0,1],[1.26,1.0])|     22.91|\n",
      "|[2.12,1.0,1.0,0.0...|     33.36|\n",
      "|[4.38,6.0,1.0,1.0...|     23.57|\n",
      "|[6.32,5.0,0.0,0.0...|     44.91|\n",
      "|[7.6,3.0,0.0,1.0,...|     48.29|\n",
      "|[4.82,3.0,1.0,1.0...|     21.02|\n",
      "|[9.97,2.0,1.0,0.0...|     40.21|\n",
      "|[2.6,5.0,1.0,0.0,...|     27.86|\n",
      "|[5.42,1.0,0.0,0.0...|      29.7|\n",
      "|[4.77,1.0,0.0,1.0...|      46.5|\n",
      "|[0.34,4.0,0.0,0.0...|      6.34|\n",
      "|[1.43,5.0,0.0,1.0...|       7.1|\n",
      "|[0.45,5.0,0.0,1.0...|      3.95|\n",
      "|[5.34,1.0,1.0,1.0...|     42.13|\n",
      "|[6.63,5.0,0.0,0.0...|     39.57|\n",
      "|[9.49,4.0,0.0,1.0...|     43.89|\n",
      "+--------------------+----------+\n",
      "only showing top 20 rows\n",
      "\n"
     ]
    }
   ],
   "source": [
    "from pyspark.ml.feature import VectorAssembler\n",
    "indexer = StringIndexer(inputCols=[\"sex\",\"smoker\",\"day\",\"time\"],outputCols=[\"sex_index\",\"smoker_index\",\"day_index\",\"time_index\"])\n",
    "randomtips2=indexer.fit(randomtips).transform(randomtips)\n",
    "featureassembler=VectorAssembler(inputCols=['tip','size','sex_index','smoker_index','day_index','time_index'],outputCol='Independent Features')\n",
    "output = featureassembler.transform(randomtips2)\n",
    "finalrandomtips2=output.select(\"Independent Features\",\"total_bill\")\n",
    "finalrandomtips2.show()"
   ]
  },
  {
   "cell_type": "code",
   "execution_count": 157,
   "id": "244f4d2d-0b29-4323-998f-c0df180a51e3",
   "metadata": {},
   "outputs": [],
   "source": [
    "from pyspark.ml.regression import LinearRegressionModel\n",
    "model_path =\"hdfs://localhost:9000/models/linear_regression_model\"\n",
    "loaded_model = LinearRegressionModel.load(model_path)\n"
   ]
  },
  {
   "cell_type": "code",
   "execution_count": 158,
   "id": "a52a6181-e264-441e-9f5e-becc8d20cad6",
   "metadata": {},
   "outputs": [
    {
     "name": "stdout",
     "output_type": "stream",
     "text": [
      "+--------------------+----------+------------------+\n",
      "|Independent Features|total_bill|        prediction|\n",
      "+--------------------+----------+------------------+\n",
      "|[3.23,6.0,1.0,1.0...|     28.79| 32.02863504915167|\n",
      "|[6.93,4.0,0.0,0.0...|     36.61| 34.83676481895115|\n",
      "|[3.93,4.0,1.0,1.0...|     31.33|28.802178165614954|\n",
      "|[2.46,4.0,0.0,0.0...|     28.61|22.218493327069652|\n",
      "|(6,[0,1],[1.26,1.0])|     22.91|  9.23581568233141|\n",
      "|[2.12,1.0,1.0,0.0...|     33.36|10.402041379014653|\n",
      "|[4.38,6.0,1.0,1.0...|     23.57|36.969865233857604|\n",
      "|[6.32,5.0,0.0,0.0...|     44.91|38.171884389039064|\n",
      "|[7.6,3.0,0.0,1.0,...|     48.29|37.415459633564694|\n",
      "|[4.82,3.0,1.0,1.0...|     21.02|27.670041509517237|\n",
      "|[9.97,2.0,1.0,0.0...|     40.21| 35.84951036769156|\n",
      "|[2.6,5.0,1.0,0.0,...|     27.86|24.375242971794638|\n",
      "|[5.42,1.0,0.0,0.0...|      29.7|21.576021273779247|\n",
      "|[4.77,1.0,0.0,1.0...|      46.5|20.358877055825456|\n",
      "|[0.34,4.0,0.0,0.0...|      6.34|15.081893176474415|\n",
      "|[1.43,5.0,0.0,1.0...|       7.1| 25.86858841832723|\n",
      "|[0.45,5.0,0.0,1.0...|      3.95|21.697456951276077|\n",
      "|[5.34,1.0,1.0,1.0...|     42.13|22.540372146625778|\n",
      "|[6.63,5.0,0.0,0.0...|     39.57|39.361661715183494|\n",
      "|[9.49,4.0,0.0,1.0...|     43.89| 45.51758867551726|\n",
      "+--------------------+----------+------------------+\n",
      "only showing top 20 rows\n",
      "\n"
     ]
    }
   ],
   "source": [
    "predictions = loaded_model.transform(finalrandomtips2)\n",
    "predictions.show()"
   ]
  },
  {
   "cell_type": "code",
   "execution_count": 159,
   "id": "152517fe-25fc-4d23-b02e-048be1c9a9a3",
   "metadata": {},
   "outputs": [
    {
     "name": "stdout",
     "output_type": "stream",
     "text": [
      "+----------+----+------+------+---+------+----+---+\n",
      "|total_bill| tip|   sex|smoker|day|  time|size| id|\n",
      "+----------+----+------+------+---+------+----+---+\n",
      "|     28.79|3.23|Female|    No|Thu| Lunch|   6|  0|\n",
      "|     36.61|6.93|  Male|   Yes|Thu| Lunch|   4|  1|\n",
      "|     31.33|3.93|Female|    No|Mon|Dinner|   4|  2|\n",
      "|     28.61|2.46|  Male|   Yes|Fri| Lunch|   4|  3|\n",
      "|     22.91|1.26|  Male|   Yes|Fri|Dinner|   1|  4|\n",
      "|     33.36|2.12|Female|   Yes|Fri|Dinner|   1|  5|\n",
      "|     23.57|4.38|Female|    No|Sun|Dinner|   6|  6|\n",
      "|     44.91|6.32|  Male|   Yes|Sat|Dinner|   5|  7|\n",
      "|     48.29| 7.6|  Male|    No|Sun|Dinner|   3|  8|\n",
      "|     21.02|4.82|Female|    No|Sun|Dinner|   3|  9|\n",
      "|     40.21|9.97|Female|   Yes|Sat| Lunch|   2| 10|\n",
      "|     27.86| 2.6|Female|   Yes|Sat| Lunch|   5| 11|\n",
      "|      29.7|5.42|  Male|   Yes|Wed|Dinner|   1| 12|\n",
      "|      46.5|4.77|  Male|    No|Thu| Lunch|   1| 13|\n",
      "|      6.34|0.34|  Male|   Yes|Thu| Lunch|   4| 14|\n",
      "|       7.1|1.43|  Male|    No|Tue|Dinner|   5| 15|\n",
      "|      3.95|0.45|  Male|    No|Tue| Lunch|   5| 16|\n",
      "|     42.13|5.34|Female|    No|Wed|Dinner|   1| 17|\n",
      "|     39.57|6.63|  Male|   Yes|Wed|Dinner|   5| 18|\n",
      "|     43.89|9.49|  Male|    No|Sat| Lunch|   4| 19|\n",
      "+----------+----+------+------+---+------+----+---+\n",
      "only showing top 20 rows\n",
      "\n"
     ]
    }
   ],
   "source": [
    "randomtips.show()"
   ]
  },
  {
   "cell_type": "code",
   "execution_count": 160,
   "id": "1843597c-a42b-4126-922f-66a2929bb47e",
   "metadata": {},
   "outputs": [
    {
     "name": "stdout",
     "output_type": "stream",
     "text": [
      "+------------------+\n",
      "|        prediction|\n",
      "+------------------+\n",
      "| 32.02863504915167|\n",
      "| 34.83676481895115|\n",
      "|28.802178165614954|\n",
      "|22.218493327069652|\n",
      "|  9.23581568233141|\n",
      "|10.402041379014653|\n",
      "|36.969865233857604|\n",
      "|38.171884389039064|\n",
      "|37.415459633564694|\n",
      "|27.670041509517237|\n",
      "| 35.84951036769156|\n",
      "|24.375242971794638|\n",
      "|21.576021273779247|\n",
      "|20.358877055825456|\n",
      "|15.081893176474415|\n",
      "| 25.86858841832723|\n",
      "|21.697456951276077|\n",
      "|22.540372146625778|\n",
      "|39.361661715183494|\n",
      "| 45.51758867551726|\n",
      "+------------------+\n",
      "only showing top 20 rows\n",
      "\n"
     ]
    }
   ],
   "source": [
    "predictions.select('prediction').show()"
   ]
  },
  {
   "cell_type": "code",
   "execution_count": 161,
   "id": "b39ca9ce-4ce0-408a-bd23-c98c518b0402",
   "metadata": {},
   "outputs": [],
   "source": [
    "\n",
    "#predictions = predictions.withColumn(\"id\", monotonically_increasing_id())"
   ]
  },
  {
   "cell_type": "code",
   "execution_count": 162,
   "id": "91714a6e-1e45-42bd-ba29-08218ee2c4ca",
   "metadata": {},
   "outputs": [
    {
     "name": "stdout",
     "output_type": "stream",
     "text": [
      "+----------+----+------+------+---+------+----+---+\n",
      "|total_bill| tip|   sex|smoker|day|  time|size| id|\n",
      "+----------+----+------+------+---+------+----+---+\n",
      "|     28.79|3.23|Female|    No|Thu| Lunch|   6|  0|\n",
      "|     36.61|6.93|  Male|   Yes|Thu| Lunch|   4|  1|\n",
      "|     31.33|3.93|Female|    No|Mon|Dinner|   4|  2|\n",
      "|     28.61|2.46|  Male|   Yes|Fri| Lunch|   4|  3|\n",
      "|     22.91|1.26|  Male|   Yes|Fri|Dinner|   1|  4|\n",
      "|     33.36|2.12|Female|   Yes|Fri|Dinner|   1|  5|\n",
      "|     23.57|4.38|Female|    No|Sun|Dinner|   6|  6|\n",
      "|     44.91|6.32|  Male|   Yes|Sat|Dinner|   5|  7|\n",
      "|     48.29| 7.6|  Male|    No|Sun|Dinner|   3|  8|\n",
      "|     21.02|4.82|Female|    No|Sun|Dinner|   3|  9|\n",
      "|     40.21|9.97|Female|   Yes|Sat| Lunch|   2| 10|\n",
      "|     27.86| 2.6|Female|   Yes|Sat| Lunch|   5| 11|\n",
      "|      29.7|5.42|  Male|   Yes|Wed|Dinner|   1| 12|\n",
      "|      46.5|4.77|  Male|    No|Thu| Lunch|   1| 13|\n",
      "|      6.34|0.34|  Male|   Yes|Thu| Lunch|   4| 14|\n",
      "|       7.1|1.43|  Male|    No|Tue|Dinner|   5| 15|\n",
      "|      3.95|0.45|  Male|    No|Tue| Lunch|   5| 16|\n",
      "|     42.13|5.34|Female|    No|Wed|Dinner|   1| 17|\n",
      "|     39.57|6.63|  Male|   Yes|Wed|Dinner|   5| 18|\n",
      "|     43.89|9.49|  Male|    No|Sat| Lunch|   4| 19|\n",
      "+----------+----+------+------+---+------+----+---+\n",
      "only showing top 20 rows\n",
      "\n"
     ]
    }
   ],
   "source": [
    "import pyspark.sql.functions as f\n",
    "randomtips.show()\n",
    "test3 = randomtips.join(predictions,\"total_bill\",\"left\")"
   ]
  },
  {
   "cell_type": "code",
   "execution_count": 168,
   "id": "16acd6c0-141a-47b5-910e-a57b5d260dbe",
   "metadata": {},
   "outputs": [
    {
     "name": "stdout",
     "output_type": "stream",
     "text": [
      "+----------+----+------+------+---+------+----+---+--------------------+------------------+\n",
      "|total_bill| tip|   sex|smoker|day|  time|size| id|Independent Features|        prediction|\n",
      "+----------+----+------+------+---+------+----+---+--------------------+------------------+\n",
      "|     28.79|3.23|Female|    No|Thu| Lunch|   6|  0|[3.23,6.0,1.0,1.0...| 32.02863504915167|\n",
      "|     36.61|6.93|  Male|   Yes|Thu| Lunch|   4|  1|[6.93,4.0,0.0,0.0...| 34.83676481895115|\n",
      "|     31.33|3.93|Female|    No|Mon|Dinner|   4|  2|[3.93,4.0,1.0,1.0...|28.802178165614954|\n",
      "|     28.61|2.46|  Male|   Yes|Fri| Lunch|   4|  3|[2.46,4.0,0.0,0.0...|22.218493327069652|\n",
      "|     22.91|1.26|  Male|   Yes|Fri|Dinner|   1|  4|(6,[0,1],[1.26,1.0])|  9.23581568233141|\n",
      "|     33.36|2.12|Female|   Yes|Fri|Dinner|   1|  5|[2.12,1.0,1.0,0.0...|10.402041379014653|\n",
      "|     23.57|4.38|Female|    No|Sun|Dinner|   6|  6|[4.38,6.0,1.0,1.0...|36.969865233857604|\n",
      "|     44.91|6.32|  Male|   Yes|Sat|Dinner|   5|  7|[6.32,5.0,0.0,0.0...|38.171884389039064|\n",
      "|     48.29| 7.6|  Male|    No|Sun|Dinner|   3|  8|[7.6,3.0,0.0,1.0,...|37.415459633564694|\n",
      "|     21.02|4.82|Female|    No|Sun|Dinner|   3|  9|[4.82,3.0,1.0,1.0...|27.670041509517237|\n",
      "|     40.21|9.97|Female|   Yes|Sat| Lunch|   2| 10|[9.97,2.0,1.0,0.0...| 35.84951036769156|\n",
      "|     27.86| 2.6|Female|   Yes|Sat| Lunch|   5| 11|[2.6,5.0,1.0,0.0,...|24.375242971794638|\n",
      "|      29.7|5.42|  Male|   Yes|Wed|Dinner|   1| 12|[5.42,1.0,0.0,0.0...|21.576021273779247|\n",
      "|      46.5|4.77|  Male|    No|Thu| Lunch|   1| 13|[4.77,1.0,0.0,1.0...|20.358877055825456|\n",
      "|      6.34|0.34|  Male|   Yes|Thu| Lunch|   4| 14|[0.34,4.0,0.0,0.0...|15.081893176474415|\n",
      "|       7.1|1.43|  Male|    No|Tue|Dinner|   5| 15|[1.43,5.0,0.0,1.0...| 25.86858841832723|\n",
      "|      3.95|0.45|  Male|    No|Tue| Lunch|   5| 16|[0.88,3.0,1.0,0.0...|12.270226894294398|\n",
      "|      3.95|0.45|  Male|    No|Tue| Lunch|   5| 16|[0.45,5.0,0.0,1.0...|21.697456951276077|\n",
      "|     42.13|5.34|Female|    No|Wed|Dinner|   1| 17|[5.34,1.0,1.0,1.0...|22.540372146625778|\n",
      "|     39.57|6.63|  Male|   Yes|Wed|Dinner|   5| 18|[6.63,5.0,0.0,0.0...|39.361661715183494|\n",
      "+----------+----+------+------+---+------+----+---+--------------------+------------------+\n",
      "only showing top 20 rows\n",
      "\n"
     ]
    }
   ],
   "source": [
    "test3.show()\n",
    "test4 = test3.select(\"id\",\"total_bill\",\"tip\",\"sex\",\"smoker\",\"day\",\"time\",\"size\",\"prediction\")"
   ]
  },
  {
   "cell_type": "code",
   "execution_count": 171,
   "id": "7a0b007e-2b55-4bcb-9b11-488ff5abf742",
   "metadata": {},
   "outputs": [],
   "source": [
    "test4.write.option(\"header\", \"true\").csv(\"hdfs://localhost:9000/randomtips.csv\")\n"
   ]
  },
  {
   "cell_type": "code",
   "execution_count": null,
   "id": "8c85b7f1-23ce-49d6-bd96-fa7daaf3bf83",
   "metadata": {},
   "outputs": [],
   "source": []
  },
  {
   "cell_type": "code",
   "execution_count": null,
   "id": "63680bf6-1554-4433-9edf-79fd8eb2c04e",
   "metadata": {},
   "outputs": [],
   "source": []
  }
 ],
 "metadata": {
  "kernelspec": {
   "display_name": "Python 3 (ipykernel)",
   "language": "python",
   "name": "python3"
  },
  "language_info": {
   "codemirror_mode": {
    "name": "ipython",
    "version": 3
   },
   "file_extension": ".py",
   "mimetype": "text/x-python",
   "name": "python",
   "nbconvert_exporter": "python",
   "pygments_lexer": "ipython3",
   "version": "3.12.8"
  }
 },
 "nbformat": 4,
 "nbformat_minor": 5
}
